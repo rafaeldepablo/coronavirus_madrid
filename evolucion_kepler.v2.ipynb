{
 "cells": [
  {
   "cell_type": "code",
   "execution_count": 1,
   "metadata": {},
   "outputs": [],
   "source": [
    "import numpy as np\n",
    "import json\n",
    "import geopandas as gpd\n",
    "import pandas as pd\n",
    "from keplergl import KeplerGl "
   ]
  },
  {
   "cell_type": "code",
   "execution_count": 2,
   "metadata": {},
   "outputs": [],
   "source": [
    "data_evolucion =pd.read_csv('covid19_tia_muni_y_distritos.csv',sep=\";\",encoding='ISO-8859-1')\n",
    "data_evolucion['fecha_informe']=pd.to_datetime(data_evolucion['fecha_informe'])\n",
    "data_evolucion['tasa_incidencia_acumulada_ultimos_14dias']=data_evolucion['tasa_incidencia_acumulada_ultimos_14dias'].str.replace(\",\",\".\")\n",
    "data_evolucion['tasa_incidencia_acumulada_total']=data_evolucion['tasa_incidencia_acumulada_total'].str.replace(\",\",\".\")\n",
    "data_evolucion.fillna(5,inplace=True)\n",
    "casos_confirmados_ultimos_14dias=data_evolucion.groupby('codigo_geometria')['casos_confirmados_ultimos_14dias'].max()\n",
    "tasa_incidencia_acumulada_ultimos_14dias=data_evolucion.groupby('codigo_geometria')['tasa_incidencia_acumulada_ultimos_14dias'].max()\n",
    "data_evolucion.set_index('fecha_informe',inplace=True)"
   ]
  },
  {
   "cell_type": "code",
   "execution_count": 3,
   "metadata": {},
   "outputs": [],
   "source": [
    "last_date=data_evolucion.index.max()\n",
    "df_temp =data_evolucion[last_date:last_date]\n",
    "#print(df_temp.columns)\n",
    "with open('municipios_y_distritos_madrid.geojson','r',encoding='utf-8') as f:\n",
    "    geojson = json.load(f)\n",
    "    for feature in geojson['features']:\n",
    "        featureProperties = feature['properties']\n",
    "        codigo_geo = int(featureProperties['codigo_geo'])\n",
    "        DSMUNI = featureProperties['DSMUNI']\n",
    "        featureData = df_temp[df_temp['codigo_geometria'] == codigo_geo]\n",
    "        featureProperties['casos_confirmados_totales'] =int(featureData.iloc[0]['casos_confirmados_totales'])\n",
    "        featureProperties['tasa_incidencia_acumulada_total'] =float(featureData.iloc[0]['tasa_incidencia_acumulada_total'])\n",
    "        featureProperties['max_casos_confirmados_14d'] =int(casos_confirmados_ultimos_14dias[codigo_geo])\n",
    "        featureProperties['max_tasa_incidencia_14d'] =float(tasa_incidencia_acumulada_ultimos_14dias[codigo_geo])\n",
    "\n",
    "    with open('latest.municipios_y_distritos_madrid.geojson','w',encoding='utf-8') as f:\n",
    "        json.dump(geojson, f)"
   ]
  },
  {
   "cell_type": "code",
   "execution_count": 4,
   "metadata": {},
   "outputs": [],
   "source": [
    "#df =pd.read_csv('../covid19_tia_muni_y_distritos (1).csv',sep=';',encoding='iso-8859-1') \n",
    "data_evolucion.reset_index(inplace=True)\n",
    "gdf = gpd.read_file('municipios_y_distritos_madrid.geojson', encoding = 'utf-8')\n",
    "data_evolucion['Lon']=np.tile(gdf.centroid.x,len(data_evolucion['fecha_informe'].unique()))\n",
    "data_evolucion['Lat']=np.tile(gdf.centroid.y,len(data_evolucion['fecha_informe'].unique()))\n",
    "data_evolucion.fillna(5,inplace=True)\n",
    "data_evolucion.set_index(['fecha_informe','municipio_distrito'])\n",
    "data_evolucion['casos_confirmados_totales_pct']=100*data_evolucion.sort_values('fecha_informe',ascending=True).groupby(['municipio_distrito'])['casos_confirmados_totales'].pct_change()\n",
    "data_evolucion.to_csv('latest.covid19_tia_muni_y_distritos.csv',encoding='utf-8',index=False)"
   ]
  },
  {
   "cell_type": "code",
   "execution_count": 5,
   "metadata": {},
   "outputs": [],
   "source": [
    "with open('latest.municipios_y_distritos_madrid.geojson','r',encoding='utf-8') as f:\n",
    "    geojson = json.load(f)"
   ]
  },
  {
   "cell_type": "code",
   "execution_count": 6,
   "metadata": {},
   "outputs": [
    {
     "name": "stdout",
     "output_type": "stream",
     "text": [
      "User Guide: https://github.com/keplergl/kepler.gl/blob/master/docs/keplergl-jupyter/user-guide.md\n"
     ]
    }
   ],
   "source": [
    "map_1 = KeplerGl(height=1000)"
   ]
  },
  {
   "cell_type": "code",
   "execution_count": 7,
   "metadata": {},
   "outputs": [],
   "source": [
    "data_evolucion[\"fecha_informe\"] = data_evolucion[\"fecha_informe\"].astype(str)\n",
    "map_1.add_data(data=data_evolucion, name=\"evolucion_14d\")\n",
    "map_1.add_data(data=geojson, name=\"total\")\n"
   ]
  },
  {
   "cell_type": "code",
   "execution_count": 8,
   "metadata": {},
   "outputs": [
    {
     "data": {
      "text/html": [
       "<style>.container { width:80% !important; }</style>"
      ],
      "text/plain": [
       "<IPython.core.display.HTML object>"
      ]
     },
     "metadata": {},
     "output_type": "display_data"
    }
   ],
   "source": [
    "from IPython.core.display import display, HTML\n",
    "display(HTML(\"<style>.container { width:80% !important; }</style>\"))"
   ]
  },
  {
   "cell_type": "code",
   "execution_count": 9,
   "metadata": {},
   "outputs": [],
   "source": [
    "with open('kepler.config') as json_file:\n",
    "    kepler_config = json.load(json_file)\n",
    "map_1.config =kepler_config"
   ]
  },
  {
   "cell_type": "code",
   "execution_count": 13,
   "metadata": {
    "scrolled": true
   },
   "outputs": [
    {
     "data": {
      "application/vnd.jupyter.widget-view+json": {
       "model_id": "981e654dc04e4d4385bf95556d658e32",
       "version_major": 2,
       "version_minor": 0
      },
      "text/plain": [
       "KeplerGl(config={'version': 'v1', 'config': {'visState': {'filters': [{'dataId': 'evolucion_14d', 'id': 'uvsxm…"
      ]
     },
     "metadata": {},
     "output_type": "display_data"
    }
   ],
   "source": [
    "map_1"
   ]
  },
  {
   "cell_type": "code",
   "execution_count": 11,
   "metadata": {},
   "outputs": [],
   "source": [
    "kepler_config=map_1.config\n",
    "with open(\"kepler.config\",\"w\",encoding='utf-8') as f:\n",
    "    json.dump(kepler_config, f)"
   ]
  },
  {
   "cell_type": "code",
   "execution_count": 12,
   "metadata": {},
   "outputs": [
    {
     "name": "stdout",
     "output_type": "stream",
     "text": [
      "Map saved to 20200415.coronavirus_madrid.html!\n"
     ]
    }
   ],
   "source": [
    "map_1.save_to_html(file_name=last_date.strftime(\"%Y%m%d\") + '.coronavirus_madrid.html')"
   ]
  }
 ],
 "metadata": {
  "kernelspec": {
   "display_name": "Python 3",
   "language": "python",
   "name": "python3"
  },
  "language_info": {
   "codemirror_mode": {
    "name": "ipython",
    "version": 3
   },
   "file_extension": ".py",
   "mimetype": "text/x-python",
   "name": "python",
   "nbconvert_exporter": "python",
   "pygments_lexer": "ipython3",
   "version": "3.7.4"
  }
 },
 "nbformat": 4,
 "nbformat_minor": 2
}
